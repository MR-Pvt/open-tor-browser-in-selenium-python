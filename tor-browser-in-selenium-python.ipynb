{
 "cells": [
  {
   "cell_type": "code",
   "execution_count": null,
   "metadata": {},
   "outputs": [],
   "source": [
    "#MR\n",
    "\n",
    "#here's the python code to do it...and its also in the .py and ipynb file\n",
    "from selenium import webdriver\n",
    "\n",
    "from selenium.webdriver.chrome.options import Options\n",
    "\n",
    "import subprocess\n",
    "\n",
    "#Here put the path of your tor browser file named as firefox.exe in Tor Browser\\Browser\n",
    "torexe = subprocess.Popen(r'C:\\Users\\rafay\\Dropbox\\My PC (DESKTOP-JFP260O)\\Desktop\\Tor Browser\\Browser\\firefox.exe')\n",
    "\n",
    "PROXY = \"socks5://127.0.0.1:9150\" # IP:PORT or HOST:PORT\n",
    "\n",
    "options = webdriver.ChromeOptions()\n",
    "\n",
    "options.add_argument('--proxy-server=%s' % PROXY)\n",
    "\n",
    "#Here put the path of your chromedriver in executable path\n",
    "driver = webdriver.Chrome(executable_path=r'D:/chromedriver', options=options)\n",
    "\n",
    "#Here put the url/link of your desired website\n",
    "driver.get(\"http://ivononic.com/4AOe\")"
   ]
  }
 ],
 "metadata": {
  "kernelspec": {
   "display_name": "Python 3",
   "language": "python",
   "name": "python3"
  },
  "language_info": {
   "codemirror_mode": {
    "name": "ipython",
    "version": 3
   },
   "file_extension": ".py",
   "mimetype": "text/x-python",
   "name": "python",
   "nbconvert_exporter": "python",
   "pygments_lexer": "ipython3",
   "version": "3.7.3"
  }
 },
 "nbformat": 4,
 "nbformat_minor": 4
}
